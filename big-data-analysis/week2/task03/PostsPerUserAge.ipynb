{
 "cells": [
  {
   "cell_type": "markdown",
   "metadata": {},
   "source": [
    "# \\[Honor Task] DML: Calculate Amount of Posts per User Age\n",
    "\n",
    "Calculate number of questions and answers depending on users' age. Use age from `users` table, filter out users if their age is undefined. \n",
    "\n",
    "**Output format:**\n",
    "\n",
    "```\n",
    "age <tab> number of questions <tab> number of answers\n",
    "```\n",
    "\n",
    "**Example:**\n",
    "\n",
    "```\n",
    "22 12345 5678\n",
    "```\n",
    "\n",
    "Output all ages. Order by age, increment. \n",
    "\n",
    "The part of the result on the sample dataset:\n",
    "\n",
    "```\n",
    "...\n",
    "21  11  24\n",
    "22  6   18\n",
    "23  12  15\n",
    "24  16  27\n",
    "25  20  33\n",
    "...\n",
    "```\n",
    "\n",
    "**Hint:** To simplify your code and reduce the quantity of MapReduce jobs produced by the query, use IF clause."
   ]
  },
  {
   "cell_type": "markdown",
   "metadata": {},
   "source": [
    "### Step 1. Calculate amount of questions and answers by user age"
   ]
  },
  {
   "cell_type": "code",
   "execution_count": null,
   "metadata": {},
   "outputs": [],
   "source": [
    "%%writefile query.hql\n",
    "USE stackoverflow_;\n",
    "\n",
    "SELECT users.age,\n",
    "       sum(if(posts.post_type_id = 1, 1, 0)) as num_questions,\n",
    "       sum(if(posts.post_type_id = 2, 1, 0)) as num_answers\n",
    "FROM posts\n",
    "JOIN users ON (posts.owner_user_id = users.id)\n",
    "WHERE users.age IS NOT NULL\n",
    "GROUP BY users.age\n",
    "ORDER BY users.age;"
   ]
  },
  {
   "cell_type": "code",
   "execution_count": null,
   "metadata": {},
   "outputs": [],
   "source": [
    "! hive -f query.hql"
   ]
  },
  {
   "cell_type": "code",
   "execution_count": null,
   "metadata": {},
   "outputs": [],
   "source": []
  }
 ],
 "metadata": {
  "kernelspec": {
   "display_name": "Python 3",
   "language": "python",
   "name": "python3"
  },
  "language_info": {
   "codemirror_mode": {
    "name": "ipython",
    "version": 3
   },
   "file_extension": ".py",
   "mimetype": "text/x-python",
   "name": "python",
   "nbconvert_exporter": "python",
   "pygments_lexer": "ipython3",
   "version": "3.6.6"
  }
 },
 "nbformat": 4,
 "nbformat_minor": 2
}