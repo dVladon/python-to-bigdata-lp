{
 "cells": [
  {
   "cell_type": "markdown",
   "metadata": {},
   "source": [
    "# Hive Assignment 2. DML: Find Most Popular Tags\n",
    "\n",
    "Compare most popular tags in year 2016 with tags in 2009. Tag popularity is the number of questions (post_type_id=1) with this tag. \n",
    "\n",
    "Output top 10 tags in format:\n",
    "\n",
    "```\n",
    "tag <tab> rank in 2016 <tab> rank in 2009 <tab> tag popularity in 2016 <tab> tag popularity in 2009\n",
    "```\n",
    "\n",
    "Example:\n",
    "\n",
    "```\n",
    "php 5 3 1234 5678\n",
    "```\n",
    "\n",
    "For 'rank' in each year use rank() function. Order by 'rank in 2016'. \n",
    "\n",
    "The part of the result on the sample dataset:\n",
    "\n",
    "```\n",
    "...\n",
    "android 3   52  1809    25\n",
    "php 4   3   1673    215\n",
    "python  5   11  1585    108\n",
    "c#  6   1   1519    423\n",
    "...\n",
    "```\n",
    "\n",
    "Please use the tables `posts` and `users` from the database `stackoverflow_`. Database `posts` is partitioned by year and by month.\n"
   ]
  },
  {
   "cell_type": "markdown",
   "metadata": {},
   "source": [
    "### Step 1. Find most popular tags"
   ]
  },
  {
   "cell_type": "code",
   "execution_count": 1,
   "metadata": {},
   "outputs": [
    {
     "name": "stdout",
     "output_type": "stream",
     "text": [
      "Overwriting query.hql\n"
     ]
    }
   ],
   "source": [
    "%%writefile query.hql\n",
    "ADD JAR /opt/cloudera/parcels/CDH/lib/hive/lib/hive-contrib.jar;\n",
    "\n",
    "USE stackoverflow_;\n",
    "\n",
    "SELECT tag,\n",
    "       rank() OVER (ORDER BY popularity2016 DESC) as rank2016,\n",
    "       rank() OVER (ORDER BY popularity2009 DESC) as rank2009,\n",
    "       popularity2016,\n",
    "       popularity2009\n",
    "FROM (\n",
    "    SELECT tag,\n",
    "           sum(CASE WHEN year = '2016' THEN 1 ELSE 0 END) as popularity2016,\n",
    "           sum(CASE WHEN year = '2009' THEN 1 ELSE 0 END) as popularity2009\n",
    "    FROM posts \n",
    "    LATERAL VIEW explode(tags) tagged as tag\n",
    "    WHERE post_type_id=1 AND year IN ('2009', '2016')\n",
    "    GROUP BY tag\n",
    ") as tmp\n",
    "ORDER BY rank2016\n",
    "LIMIT 10;"
   ]
  },
  {
   "cell_type": "code",
   "execution_count": null,
   "metadata": {},
   "outputs": [],
   "source": [
    "%%bash\n",
    "\n",
    "hive -f query.hql"
   ]
  },
  {
   "cell_type": "code",
   "execution_count": null,
   "metadata": {},
   "outputs": [],
   "source": []
  }
 ],
 "metadata": {
  "kernelspec": {
   "display_name": "Python 3",
   "language": "python",
   "name": "python3"
  },
  "language_info": {
   "codemirror_mode": {
    "name": "ipython",
    "version": 3
   },
   "file_extension": ".py",
   "mimetype": "text/x-python",
   "name": "python",
   "nbconvert_exporter": "python",
   "pygments_lexer": "ipython3",
   "version": "3.6.6"
  }
 },
 "nbformat": 4,
 "nbformat_minor": 2
}
