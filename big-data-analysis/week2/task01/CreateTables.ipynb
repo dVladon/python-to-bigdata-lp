{
 "cells": [
  {
   "cell_type": "markdown",
   "metadata": {},
   "source": [
    "# Hive Assignment 1. DDL: Create Tables\n",
    "\n",
    "The purpose of this task is to create an external table on the posts data of the *stackoverflow.com* website.\n",
    "\n",
    "Create your own database and 'use' it. Create external table `posts_sample_external` over the sample dataset with posts in `/data/stackexchange1000` directory. Create managed table `posts_sample` and populate with the data from the external table. The `posts_sample` table should be partitioned by year and by month of post creation. Provide output of query which selects lines number per each partition in the format:\n",
    "\n",
    "```\n",
    "year <tab> month <tab> lines count\n",
    "```\n",
    "\n",
    "where year in `YYYY` format and month in `YYYY-MM` format. The result is the 3th line of the last query output.\n",
    "\n",
    "The result on the sample dataset:\n",
    "\n",
    "```\n",
    "2008    2008-10 73\n",
    "```\n",
    "\n",
    "**Note:** the external grader requires one file for this task. That's why all step are combined in one .hql file."
   ]
  },
  {
   "cell_type": "markdown",
   "metadata": {},
   "source": [
    "## Step 1. Complete the assignment"
   ]
  },
  {
   "cell_type": "code",
   "execution_count": 1,
   "metadata": {},
   "outputs": [
    {
     "name": "stdout",
     "output_type": "stream",
     "text": [
      "Writing task1_create_external_table.hql\n"
     ]
    }
   ],
   "source": [
    "%%writefile task1_create_external_table.hql\n",
    "ADD JAR /opt/cloudera/parcels/CDH/lib/hive/lib/hive-contrib.jar;\n",
    "ADD JAR /opt/cloudera/parcels/CDH/lib/hive/lib/hive-serde.jar;\n",
    "\n",
    "USE stackoverflow_;\n",
    "\n",
    "-- Create external table posts_sample_external with suitable values\n",
    "DROP TABLE IF EXISTS posts_sample_external;\n",
    "\n",
    "CREATE EXTERNAL TABLE posts_sample_external (\n",
    "    id INT,\n",
    "    year INT,\n",
    "    month STRING\n",
    ")\n",
    "ROW FORMAT\n",
    "    SERDE 'org.apache.hadoop.hive.serde2.RegexSerDe'\n",
    "    WITH SERDEPROPERTIES (\n",
    "        \"input.regex\" = \".*?(?=\\\\bId=\\\"(\\\\d+)\\\").*(?=.*\\\\bCreationDate=\\\"(\\\\d{4}).*)(?=.*\\\\bCreationDate=\\\"(\\\\d{4}-\\\\d{2}).*).*$\"\n",
    "    )\n",
    "LOCATION '/data/stackexchange1000/posts'\n",
    "TBLPROPERTIES (\n",
    "    \"skip.header.line.count\"=\"1\"\n",
    ");\n"
   ]
  },
  {
   "cell_type": "code",
   "execution_count": 2,
   "metadata": {},
   "outputs": [
    {
     "name": "stdout",
     "output_type": "stream",
     "text": [
      "\n",
      "Logging initialized using configuration in jar:file:/usr/local/apache-hive-2.3.6-bin/lib/hive-common-2.3.6.jar!/hive-log4j2.properties Async: true\n",
      "Added [/opt/cloudera/parcels/CDH/lib/hive/lib/hive-contrib.jar] to class path\n",
      "Added resources: [/opt/cloudera/parcels/CDH/lib/hive/lib/hive-contrib.jar]\n",
      "Added [/opt/cloudera/parcels/CDH/lib/hive/lib/hive-serde.jar] to class path\n",
      "Added resources: [/opt/cloudera/parcels/CDH/lib/hive/lib/hive-serde.jar]\n",
      "OK\n",
      "Time taken: 0.815 seconds\n",
      "OK\n",
      "Time taken: 0.236 seconds\n",
      "OK\n",
      "Time taken: 0.736 seconds\n"
     ]
    }
   ],
   "source": [
    "!hive -f task1_create_external_table.hql"
   ]
  },
  {
   "cell_type": "code",
   "execution_count": 3,
   "metadata": {},
   "outputs": [
    {
     "name": "stdout",
     "output_type": "stream",
     "text": [
      "Writing task1_check_select.hql\n"
     ]
    }
   ],
   "source": [
    "%%writefile task1_check_select.hql\n",
    "USE stackoverflow_;\n",
    "\n",
    "SELECT * FROM posts_sample_external LIMIT 10;"
   ]
  },
  {
   "cell_type": "code",
   "execution_count": 4,
   "metadata": {},
   "outputs": [
    {
     "name": "stdout",
     "output_type": "stream",
     "text": [
      "\n",
      "Logging initialized using configuration in jar:file:/usr/local/apache-hive-2.3.6-bin/lib/hive-common-2.3.6.jar!/hive-log4j2.properties Async: true\n",
      "OK\n",
      "Time taken: 13.075 seconds\n",
      "OK\n",
      "1394\t2008\t2008-08\n",
      "3543\t2008\t2008-08\n",
      "4521\t2008\t2008-08\n",
      "8689\t2008\t2008-08\n",
      "9062\t2008\t2008-08\n",
      "14671\t2008\t2008-08\n",
      "16307\t2008\t2008-08\n",
      "18780\t2008\t2008-08\n",
      "18929\t2008\t2008-08\n",
      "19668\t2008\t2008-08\n",
      "Time taken: 2.907 seconds, Fetched: 10 row(s)\n"
     ]
    }
   ],
   "source": [
    "!hive -f task1_check_select.hql"
   ]
  },
  {
   "cell_type": "code",
   "execution_count": 5,
   "metadata": {},
   "outputs": [
    {
     "name": "stdout",
     "output_type": "stream",
     "text": [
      "Writing task1_create_managed_table.hql\n"
     ]
    }
   ],
   "source": [
    "%%writefile task1_create_managed_table.hql\n",
    "USE stackoverflow_;\n",
    "\n",
    "-- Create managed table posts_sample partitioned by year and month\n",
    "CREATE TABLE posts_sample (\n",
    "    id INT\n",
    ")\n",
    "PARTITIONED BY (year INT, month STRING);\n"
   ]
  },
  {
   "cell_type": "code",
   "execution_count": 6,
   "metadata": {},
   "outputs": [
    {
     "name": "stdout",
     "output_type": "stream",
     "text": [
      "\n",
      "Logging initialized using configuration in jar:file:/usr/local/apache-hive-2.3.6-bin/lib/hive-common-2.3.6.jar!/hive-log4j2.properties Async: true\n",
      "OK\n",
      "Time taken: 12.926 seconds\n",
      "OK\n",
      "Time taken: 0.697 seconds\n"
     ]
    }
   ],
   "source": [
    "!hive -f task1_create_managed_table.hql"
   ]
  },
  {
   "cell_type": "code",
   "execution_count": 7,
   "metadata": {},
   "outputs": [
    {
     "name": "stdout",
     "output_type": "stream",
     "text": [
      "Writing task1_insert_table.hql\n"
     ]
    }
   ],
   "source": [
    "%%writefile task1_insert_table.hql\n",
    "USE stackoverflow_;\n",
    "\n",
    "SET hive.exec.dynamic.partition.mode=nonstrict;\n",
    "SET hive.error.on.empty.partition=true;\n",
    "\n",
    "-- Filling managed posts table from external one\n",
    "\n",
    "FROM posts_sample_external\n",
    "INSERT OVERWRITE TABLE posts_sample\n",
    "PARTITION (year, month)\n",
    "SELECT id, year, month;\n"
   ]
  },
  {
   "cell_type": "code",
   "execution_count": 8,
   "metadata": {},
   "outputs": [
    {
     "name": "stdout",
     "output_type": "stream",
     "text": [
      "\n",
      "Logging initialized using configuration in jar:file:/usr/local/apache-hive-2.3.6-bin/lib/hive-common-2.3.6.jar!/hive-log4j2.properties Async: true\n",
      "OK\n",
      "Time taken: 10.001 seconds\n",
      "WARNING: Hive-on-MR is deprecated in Hive 2 and may not be available in the future versions. Consider using a different execution engine (i.e. spark, tez) or using Hive 1.X releases.\n",
      "Query ID = jovyan_20210125065659_7a358e60-c783-4ac8-a7a6-4d280998e1d4\n",
      "Total jobs = 3\n",
      "Launching Job 1 out of 3\n",
      "Number of reduce tasks is set to 0 since there's no reduce operator\n",
      "Starting Job = job_1611556010983_0001, Tracking URL = http://172.17.0.2:8088/proxy/application_1611556010983_0001/\n",
      "Kill Command = /usr/local/hadoop/bin/hadoop job  -kill job_1611556010983_0001\n",
      "Hadoop job information for Stage-1: number of mappers: 1; number of reducers: 0\n",
      "2021-01-25 06:57:14,646 Stage-1 map = 0%,  reduce = 0%\n",
      "2021-01-25 06:57:45,911 Stage-1 map = 1%,  reduce = 0%, Cumulative CPU 26.61 sec\n",
      "2021-01-25 06:58:16,359 Stage-1 map = 2%,  reduce = 0%, Cumulative CPU 57.52 sec\n",
      "2021-01-25 06:58:28,100 Stage-1 map = 3%,  reduce = 0%, Cumulative CPU 69.39 sec\n",
      "2021-01-25 06:58:45,729 Stage-1 map = 4%,  reduce = 0%, Cumulative CPU 87.44 sec\n",
      "2021-01-25 06:59:10,615 Stage-1 map = 5%,  reduce = 0%, Cumulative CPU 111.47 sec\n",
      "2021-01-25 06:59:22,008 Stage-1 map = 6%,  reduce = 0%, Cumulative CPU 123.37 sec\n",
      "2021-01-25 06:59:45,983 Stage-1 map = 7%,  reduce = 0%, Cumulative CPU 147.36 sec\n",
      "2021-01-25 07:00:09,891 Stage-1 map = 8%,  reduce = 0%, Cumulative CPU 171.4 sec\n",
      "2021-01-25 07:00:34,617 Stage-1 map = 9%,  reduce = 0%, Cumulative CPU 195.45 sec\n",
      "2021-01-25 07:00:52,122 Stage-1 map = 10%,  reduce = 0%, Cumulative CPU 213.42 sec\n",
      "2021-01-25 07:01:04,467 Stage-1 map = 11%,  reduce = 0%, Cumulative CPU 225.46 sec\n",
      "2021-01-25 07:01:34,490 Stage-1 map = 12%,  reduce = 0%, Cumulative CPU 255.85 sec\n",
      "2021-01-25 07:01:46,765 Stage-1 map = 13%,  reduce = 0%, Cumulative CPU 267.88 sec\n",
      "2021-01-25 07:02:04,162 Stage-1 map = 14%,  reduce = 0%, Cumulative CPU 285.95 sec\n",
      "2021-01-25 07:02:34,041 Stage-1 map = 15%,  reduce = 0%, Cumulative CPU 315.98 sec\n",
      "2021-01-25 07:03:04,909 Stage-1 map = 16%,  reduce = 0%, Cumulative CPU 346.0 sec\n",
      "2021-01-25 07:03:22,388 Stage-1 map = 17%,  reduce = 0%, Cumulative CPU 363.96 sec\n",
      "2021-01-25 07:03:34,714 Stage-1 map = 18%,  reduce = 0%, Cumulative CPU 375.95 sec\n",
      "2021-01-25 07:03:52,144 Stage-1 map = 19%,  reduce = 0%, Cumulative CPU 393.97 sec\n",
      "2021-01-25 07:04:10,597 Stage-1 map = 20%,  reduce = 0%, Cumulative CPU 412.0 sec\n",
      "2021-01-25 07:04:35,150 Stage-1 map = 21%,  reduce = 0%, Cumulative CPU 436.03 sec\n",
      "2021-01-25 07:04:52,606 Stage-1 map = 22%,  reduce = 0%, Cumulative CPU 454.1 sec\n",
      "2021-01-25 07:05:28,536 Stage-1 map = 23%,  reduce = 0%, Cumulative CPU 490.05 sec\n",
      "2021-01-25 07:05:58,306 Stage-1 map = 24%,  reduce = 0%, Cumulative CPU 519.98 sec\n",
      "2021-01-25 07:06:16,847 Stage-1 map = 25%,  reduce = 0%, Cumulative CPU 538.07 sec\n",
      "2021-01-25 07:06:40,458 Stage-1 map = 26%,  reduce = 0%, Cumulative CPU 562.22 sec\n",
      "2021-01-25 07:06:59,050 Stage-1 map = 27%,  reduce = 0%, Cumulative CPU 580.28 sec\n",
      "2021-01-25 07:07:58,866 Stage-1 map = 28%,  reduce = 0%, Cumulative CPU 640.53 sec\n",
      "2021-01-25 07:08:17,402 Stage-1 map = 29%,  reduce = 0%, Cumulative CPU 658.58 sec\n",
      "2021-01-25 07:08:41,043 Stage-1 map = 30%,  reduce = 0%, Cumulative CPU 682.66 sec\n",
      "2021-01-25 07:09:10,974 Stage-1 map = 31%,  reduce = 0%, Cumulative CPU 712.77 sec\n",
      "2021-01-25 07:09:35,317 Stage-1 map = 32%,  reduce = 0%, Cumulative CPU 736.8 sec\n",
      "2021-01-25 07:10:05,220 Stage-1 map = 33%,  reduce = 0%, Cumulative CPU 766.75 sec\n",
      "2021-01-25 07:10:22,641 Stage-1 map = 34%,  reduce = 0%, Cumulative CPU 784.78 sec\n",
      "2021-01-25 07:10:59,544 Stage-1 map = 35%,  reduce = 0%, Cumulative CPU 820.65 sec\n",
      "2021-01-25 07:11:34,749 Stage-1 map = 36%,  reduce = 0%, Cumulative CPU 856.52 sec\n",
      "2021-01-25 07:11:59,339 Stage-1 map = 37%,  reduce = 0%, Cumulative CPU 880.46 sec\n",
      "2021-01-25 07:12:41,306 Stage-1 map = 38%,  reduce = 0%, Cumulative CPU 922.45 sec\n",
      "2021-01-25 07:13:04,840 Stage-1 map = 39%,  reduce = 0%, Cumulative CPU 946.45 sec\n",
      "2021-01-25 07:13:29,372 Stage-1 map = 40%,  reduce = 0%, Cumulative CPU 970.5 sec\n",
      "2021-01-25 07:14:17,542 Stage-1 map = 41%,  reduce = 0%, Cumulative CPU 1018.39 sec\n",
      "2021-01-25 07:15:05,255 Stage-1 map = 42%,  reduce = 0%, Cumulative CPU 1065.6 sec\n",
      "2021-01-25 07:15:53,104 Stage-1 map = 43%,  reduce = 0%, Cumulative CPU 1113.15 sec\n",
      "2021-01-25 07:16:17,302 Stage-1 map = 44%,  reduce = 0%, Cumulative CPU 1136.85 sec\n",
      "2021-01-25 07:16:41,089 Stage-1 map = 45%,  reduce = 0%, Cumulative CPU 1160.42 sec\n",
      "2021-01-25 07:17:11,082 Stage-1 map = 46%,  reduce = 0%, Cumulative CPU 1190.0 sec\n",
      "2021-01-25 07:17:34,960 Stage-1 map = 47%,  reduce = 0%, Cumulative CPU 1213.61 sec\n",
      "2021-01-25 07:17:59,814 Stage-1 map = 48%,  reduce = 0%, Cumulative CPU 1237.25 sec\n",
      "2021-01-25 07:18:29,804 Stage-1 map = 49%,  reduce = 0%, Cumulative CPU 1267.04 sec\n",
      "2021-01-25 07:19:05,901 Stage-1 map = 50%,  reduce = 0%, Cumulative CPU 1302.58 sec\n",
      "2021-01-25 07:19:53,959 Stage-1 map = 51%,  reduce = 0%, Cumulative CPU 1349.87 sec\n",
      "2021-01-25 07:20:17,711 Stage-1 map = 52%,  reduce = 0%, Cumulative CPU 1373.7 sec\n",
      "2021-01-25 07:20:47,765 Stage-1 map = 53%,  reduce = 0%, Cumulative CPU 1403.74 sec\n",
      "2021-01-25 07:21:30,139 Stage-1 map = 54%,  reduce = 0%, Cumulative CPU 1445.26 sec\n",
      "2021-01-25 07:22:05,257 Stage-1 map = 55%,  reduce = 0%, Cumulative CPU 1481.13 sec\n",
      "2021-01-25 07:22:29,988 Stage-1 map = 56%,  reduce = 0%, Cumulative CPU 1505.19 sec\n",
      "2021-01-25 07:22:59,898 Stage-1 map = 57%,  reduce = 0%, Cumulative CPU 1535.25 sec\n",
      "2021-01-25 07:23:35,927 Stage-1 map = 58%,  reduce = 0%, Cumulative CPU 1571.4 sec\n",
      "2021-01-25 07:24:05,798 Stage-1 map = 59%,  reduce = 0%, Cumulative CPU 1601.5 sec\n",
      "2021-01-25 07:24:35,673 Stage-1 map = 60%,  reduce = 0%, Cumulative CPU 1631.43 sec\n",
      "2021-01-25 07:24:54,260 Stage-1 map = 61%,  reduce = 0%, Cumulative CPU 1649.5 sec\n",
      "2021-01-25 07:25:29,729 Stage-1 map = 62%,  reduce = 0%, Cumulative CPU 1685.09 sec\n",
      "2021-01-25 07:25:59,835 Stage-1 map = 63%,  reduce = 0%, Cumulative CPU 1714.59 sec\n",
      "2021-01-25 07:26:29,774 Stage-1 map = 64%,  reduce = 0%, Cumulative CPU 1744.39 sec\n",
      "2021-01-25 07:27:23,538 Stage-1 map = 65%,  reduce = 0%, Cumulative CPU 1797.85 sec\n",
      "2021-01-25 07:28:00,123 Stage-1 map = 66%,  reduce = 0%, Cumulative CPU 1833.78 sec\n",
      "2021-01-25 07:28:23,916 Stage-1 map = 67%,  reduce = 0%, Cumulative CPU 1857.5 sec\n",
      "2021-01-25 07:29:00,114 Stage-1 map = 68%,  reduce = 0%, Cumulative CPU 1893.46 sec\n",
      "2021-01-25 07:29:36,071 Stage-1 map = 69%,  reduce = 0%, Cumulative CPU 1929.29 sec\n",
      "2021-01-25 07:30:06,038 Stage-1 map = 70%,  reduce = 0%, Cumulative CPU 1959.1 sec\n",
      "2021-01-25 07:30:47,511 Stage-1 map = 71%,  reduce = 0%, Cumulative CPU 2000.75 sec\n",
      "2021-01-25 07:31:42,453 Stage-1 map = 72%,  reduce = 0%, Cumulative CPU 2054.32 sec\n",
      "2021-01-25 07:32:29,567 Stage-1 map = 73%,  reduce = 0%, Cumulative CPU 2101.66 sec\n",
      "2021-01-25 07:32:54,302 Stage-1 map = 74%,  reduce = 0%, Cumulative CPU 2125.27 sec\n",
      "2021-01-25 07:33:29,832 Stage-1 map = 75%,  reduce = 0%, Cumulative CPU 2160.81 sec\n",
      "2021-01-25 07:34:30,369 Stage-1 map = 75%,  reduce = 0%, Cumulative CPU 2220.65 sec\n",
      "2021-01-25 07:34:35,640 Stage-1 map = 76%,  reduce = 0%, Cumulative CPU 2226.54 sec\n",
      "2021-01-25 07:35:05,582 Stage-1 map = 77%,  reduce = 0%, Cumulative CPU 2256.17 sec\n",
      "2021-01-25 07:35:54,275 Stage-1 map = 78%,  reduce = 0%, Cumulative CPU 2303.99 sec\n",
      "2021-01-25 07:36:35,796 Stage-1 map = 79%,  reduce = 0%, Cumulative CPU 2345.57 sec\n",
      "2021-01-25 07:37:05,655 Stage-1 map = 80%,  reduce = 0%, Cumulative CPU 2375.39 sec\n",
      "2021-01-25 07:37:35,492 Stage-1 map = 81%,  reduce = 0%, Cumulative CPU 2405.17 sec\n",
      "2021-01-25 07:38:17,654 Stage-1 map = 82%,  reduce = 0%, Cumulative CPU 2447.16 sec\n",
      "2021-01-25 07:38:53,673 Stage-1 map = 83%,  reduce = 0%, Cumulative CPU 2483.19 sec\n",
      "2021-01-25 07:39:18,387 Stage-1 map = 84%,  reduce = 0%, Cumulative CPU 2507.07 sec\n",
      "2021-01-25 07:40:24,048 Stage-1 map = 84%,  reduce = 0%, Cumulative CPU 2519.07 sec\n",
      "2021-01-25 07:40:37,661 Stage-1 map = 85%,  reduce = 0%, Cumulative CPU 2537.08 sec\n",
      "2021-01-25 07:41:06,842 Stage-1 map = 86%,  reduce = 0%, Cumulative CPU 2567.22 sec\n",
      "2021-01-25 07:41:55,458 Stage-1 map = 87%,  reduce = 0%, Cumulative CPU 2614.62 sec\n"
     ]
    },
    {
     "name": "stdout",
     "output_type": "stream",
     "text": [
      "2021-01-25 07:42:37,624 Stage-1 map = 88%,  reduce = 0%, Cumulative CPU 2656.8 sec\n",
      "2021-01-25 07:43:25,184 Stage-1 map = 89%,  reduce = 0%, Cumulative CPU 2704.4 sec\n",
      "2021-01-25 07:44:01,631 Stage-1 map = 90%,  reduce = 0%, Cumulative CPU 2740.42 sec\n",
      "2021-01-25 07:44:55,286 Stage-1 map = 91%,  reduce = 0%, Cumulative CPU 2794.47 sec\n",
      "2021-01-25 07:45:18,909 Stage-1 map = 92%,  reduce = 0%, Cumulative CPU 2818.33 sec\n",
      "2021-01-25 07:45:49,773 Stage-1 map = 93%,  reduce = 0%, Cumulative CPU 2848.31 sec\n",
      "2021-01-25 07:46:49,391 Stage-1 map = 94%,  reduce = 0%, Cumulative CPU 2908.56 sec\n",
      "2021-01-25 07:47:31,853 Stage-1 map = 95%,  reduce = 0%, Cumulative CPU 2950.49 sec\n",
      "2021-01-25 07:48:06,925 Stage-1 map = 96%,  reduce = 0%, Cumulative CPU 2986.31 sec\n",
      "2021-01-25 07:49:01,576 Stage-1 map = 97%,  reduce = 0%, Cumulative CPU 3040.13 sec\n",
      "2021-01-25 07:49:31,575 Stage-1 map = 98%,  reduce = 0%, Cumulative CPU 3070.07 sec\n",
      "2021-01-25 07:50:07,612 Stage-1 map = 99%,  reduce = 0%, Cumulative CPU 3106.13 sec\n",
      "2021-01-25 07:50:49,750 Stage-1 map = 100%,  reduce = 0%, Cumulative CPU 3146.98 sec\n",
      "MapReduce Total cumulative CPU time: 52 minutes 28 seconds 230 msec\n",
      "Ended Job = job_1611556010983_0001\n",
      "Stage-4 is selected by condition resolver.\n",
      "Stage-3 is filtered out by condition resolver.\n",
      "Stage-5 is filtered out by condition resolver.\n",
      "Moving data to directory hdfs://localhost:9000/user/jovyan/precreate/posts_sample/.hive-staging_hive_2021-01-25_06-56-59_080_8327324169025207136-1/-ext-10000\n",
      "Loading data to table stackoverflow_.posts_sample partition (year=null, month=null)\n",
      "\n",
      "\n",
      "chmod: File hdfs://localhost:9000/user/jovyan/precreate/posts_sample/year=2012/month=2012-12 does not exist.\n",
      "\t Time taken to load dynamic partitions: 12.247 seconds\n",
      "\t Time taken for adding to write entity : 0.025 seconds\n",
      "MapReduce Jobs Launched: \n",
      "Stage-Stage-1: Map: 1   Cumulative CPU: 3148.23 sec   HDFS Read: 60003723 HDFS Write: 348613 SUCCESS\n",
      "Total MapReduce CPU Time Spent: 52 minutes 28 seconds 230 msec\n",
      "OK\n",
      "Time taken: 3258.564 seconds\n"
     ]
    }
   ],
   "source": [
    "!hive -f task1_insert_table.hql"
   ]
  },
  {
   "cell_type": "code",
   "execution_count": 13,
   "metadata": {},
   "outputs": [
    {
     "name": "stdout",
     "output_type": "stream",
     "text": [
      "Overwriting task1_watch_new_table.hql\n"
     ]
    }
   ],
   "source": [
    "%%writefile task1_watch_new_table.hql\n",
    "USE stackoverflow_;\n",
    "\n",
    "SELECT * FROM posts_sample LIMIT 10;"
   ]
  },
  {
   "cell_type": "code",
   "execution_count": 14,
   "metadata": {},
   "outputs": [
    {
     "name": "stdout",
     "output_type": "stream",
     "text": [
      "\n",
      "Logging initialized using configuration in jar:file:/usr/local/apache-hive-2.3.6-bin/lib/hive-common-2.3.6.jar!/hive-log4j2.properties Async: true\n",
      "OK\n",
      "Time taken: 16.993 seconds\n",
      "OK\n",
      "1394\t2008\t2008-08\n",
      "3543\t2008\t2008-08\n",
      "4521\t2008\t2008-08\n",
      "8689\t2008\t2008-08\n",
      "9062\t2008\t2008-08\n",
      "14671\t2008\t2008-08\n",
      "16307\t2008\t2008-08\n",
      "18780\t2008\t2008-08\n",
      "18929\t2008\t2008-08\n",
      "19668\t2008\t2008-08\n",
      "Time taken: 4.361 seconds, Fetched: 10 row(s)\n"
     ]
    }
   ],
   "source": [
    "!hive -f task1_watch_new_table.hql"
   ]
  },
  {
   "cell_type": "code",
   "execution_count": 19,
   "metadata": {},
   "outputs": [
    {
     "name": "stdout",
     "output_type": "stream",
     "text": [
      "Overwriting task1_result.hql\n"
     ]
    }
   ],
   "source": [
    "%%writefile task1_result.hql\n",
    "USE stackoverflow_;\n",
    "\n",
    "-- Count posts by months\n",
    "SELECT year, month, COUNT(*) as count \n",
    "FROM posts_sample \n",
    "GROUP BY year, month ORDER BY month\n",
    "LIMIT 2,1;"
   ]
  },
  {
   "cell_type": "code",
   "execution_count": 20,
   "metadata": {},
   "outputs": [
    {
     "name": "stdout",
     "output_type": "stream",
     "text": [
      "\n",
      "Logging initialized using configuration in jar:file:/usr/local/apache-hive-2.3.6-bin/lib/hive-common-2.3.6.jar!/hive-log4j2.properties Async: true\n",
      "OK\n",
      "Time taken: 14.285 seconds\n",
      "WARNING: Hive-on-MR is deprecated in Hive 2 and may not be available in the future versions. Consider using a different execution engine (i.e. spark, tez) or using Hive 1.X releases.\n",
      "Query ID = jovyan_20210125075453_062c34fd-7103-4b3a-81a5-2de1656056e6\n",
      "Total jobs = 2\n",
      "Launching Job 1 out of 2\n",
      "Number of reduce tasks not specified. Estimated from input data size: 1\n",
      "In order to change the average load for a reducer (in bytes):\n",
      "  set hive.exec.reducers.bytes.per.reducer=<number>\n",
      "In order to limit the maximum number of reducers:\n",
      "  set hive.exec.reducers.max=<number>\n",
      "In order to set a constant number of reducers:\n",
      "  set mapreduce.job.reduces=<number>\n",
      "Starting Job = job_1611556010983_0002, Tracking URL = http://172.17.0.2:8088/proxy/application_1611556010983_0002/\n",
      "Kill Command = /usr/local/hadoop/bin/hadoop job  -kill job_1611556010983_0002\n",
      "Hadoop job information for Stage-1: number of mappers: 1; number of reducers: 1\n",
      "2021-01-25 07:55:11,706 Stage-1 map = 0%,  reduce = 0%\n",
      "2021-01-25 07:55:19,250 Stage-1 map = 100%,  reduce = 0%, Cumulative CPU 3.79 sec\n",
      "2021-01-25 07:55:27,705 Stage-1 map = 100%,  reduce = 100%, Cumulative CPU 5.82 sec\n",
      "MapReduce Total cumulative CPU time: 5 seconds 820 msec\n",
      "Ended Job = job_1611556010983_0002\n",
      "Launching Job 2 out of 2\n",
      "Number of reduce tasks determined at compile time: 1\n",
      "In order to change the average load for a reducer (in bytes):\n",
      "  set hive.exec.reducers.bytes.per.reducer=<number>\n",
      "In order to limit the maximum number of reducers:\n",
      "  set hive.exec.reducers.max=<number>\n",
      "In order to set a constant number of reducers:\n",
      "  set mapreduce.job.reduces=<number>\n",
      "Starting Job = job_1611556010983_0003, Tracking URL = http://172.17.0.2:8088/proxy/application_1611556010983_0003/\n",
      "Kill Command = /usr/local/hadoop/bin/hadoop job  -kill job_1611556010983_0003\n",
      "Hadoop job information for Stage-2: number of mappers: 1; number of reducers: 1\n",
      "2021-01-25 07:55:43,754 Stage-2 map = 0%,  reduce = 0%\n",
      "2021-01-25 07:55:51,112 Stage-2 map = 100%,  reduce = 0%, Cumulative CPU 1.99 sec\n",
      "2021-01-25 07:55:58,461 Stage-2 map = 100%,  reduce = 100%, Cumulative CPU 4.16 sec\n",
      "MapReduce Total cumulative CPU time: 4 seconds 160 msec\n",
      "Ended Job = job_1611556010983_0003\n",
      "MapReduce Jobs Launched: \n",
      "Stage-Stage-1: Map: 1  Reduce: 1   Cumulative CPU: 5.82 sec   HDFS Read: 390662 HDFS Write: 183 SUCCESS\n",
      "Stage-Stage-2: Map: 1  Reduce: 1   Cumulative CPU: 4.16 sec   HDFS Read: 6106 HDFS Write: 115 SUCCESS\n",
      "Total MapReduce CPU Time Spent: 9 seconds 980 msec\n",
      "OK\n",
      "2008\t2008-10\t73\n",
      "Time taken: 67.114 seconds, Fetched: 1 row(s)\n"
     ]
    }
   ],
   "source": [
    "!hive -f task1_result.hql"
   ]
  },
  {
   "cell_type": "markdown",
   "metadata": {},
   "source": [
    "## Step 2. Submission part. Do not touch!! And simple run all cells below!"
   ]
  },
  {
   "cell_type": "code",
   "execution_count": null,
   "metadata": {
    "colab": {
     "autoexec": {
      "startup": false,
      "wait_interval": 0
     }
    },
    "colab_type": "code",
    "id": "76fguZmgJ5uD"
   },
   "outputs": [],
   "source": [
    "!cat task1_create_external_table.hql > task1.hql\n",
    "!cat task1_create_managed_table.hql >> task1.hql\n",
    "!cat task1_insert_table.hql >> task1.hql\n",
    "!cat task1_result.hql >> task1.hql"
   ]
  },
  {
   "cell_type": "code",
   "execution_count": null,
   "metadata": {},
   "outputs": [],
   "source": [
    "!cat task1.hql"
   ]
  },
  {
   "cell_type": "code",
   "execution_count": null,
   "metadata": {},
   "outputs": [],
   "source": [
    "%%javascript\n",
    "\n",
    "$(document).ready(function() {\n",
    "    console.log('Ready');\n",
    "    \n",
    "    \n",
    "    function is_hive_command(list_tokens) {\n",
    "        return list_tokens.indexOf('hive') > -1 && \n",
    "             list_tokens.indexOf('f') > -1 &&\n",
    "             list_tokens.indexOf('-') > -1 && \n",
    "             list_tokens.indexOf('!') > -1 &&\n",
    "             list_tokens.indexOf('hql') > -1 && \n",
    "             list_tokens.indexOf('writefile') == -1;\n",
    "    } \n",
    "    \n",
    "    function collectText(input_tag) {\n",
    "\n",
    "        var result_string = [];\n",
    "        $.each($(input_tag).children(), function(index, child) {\n",
    "            result_string.push($(child).text());\n",
    "        });\n",
    "        return [result_string, is_hive_command(result_string)];\n",
    "    };\n",
    "    \n",
    "    var filtered_results = $(\".cell.code_cell.rendered\").filter(function(index, element) {\n",
    "        var out = collectText($(element).find('.CodeMirror-line').find('span'));\n",
    "        console.log(out);\n",
    "        return collectText($(element).find('.CodeMirror-line').find('span'))[1];\n",
    "    });\n",
    "    $(filtered_results).remove();\n",
    "});"
   ]
  },
  {
   "cell_type": "code",
   "execution_count": null,
   "metadata": {},
   "outputs": [],
   "source": [
    "%%bash\n",
    "hive -f task1.hql"
   ]
  }
 ],
 "metadata": {
  "kernelspec": {
   "display_name": "Python 3",
   "language": "python",
   "name": "python3"
  },
  "language_info": {
   "codemirror_mode": {
    "name": "ipython",
    "version": 3
   },
   "file_extension": ".py",
   "mimetype": "text/x-python",
   "name": "python",
   "nbconvert_exporter": "python",
   "pygments_lexer": "ipython3",
   "version": "3.6.6"
  }
 },
 "nbformat": 4,
 "nbformat_minor": 2
}
