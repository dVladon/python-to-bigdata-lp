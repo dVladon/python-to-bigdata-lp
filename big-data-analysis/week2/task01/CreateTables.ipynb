{
 "cells": [
  {
   "cell_type": "markdown",
   "metadata": {},
   "source": [
    "# Hive Assignment 1. DDL: Create Tables\n",
    "\n",
    "The purpose of this task is to create an external table on the posts data of the *stackoverflow.com* website.\n",
    "\n",
    "Create your own database and 'use' it. Create external table `posts_sample_external` over the sample dataset with posts in `/data/stackexchange1000` directory. Create managed table `posts_sample` and populate with the data from the external table. The `posts_sample` table should be partitioned by year and by month of post creation. Provide output of query which selects lines number per each partition in the format:\n",
    "\n",
    "```\n",
    "year <tab> month <tab> lines count\n",
    "```\n",
    "\n",
    "where year in `YYYY` format and month in `YYYY-MM` format. The result is the 3th line of the last query output.\n",
    "\n",
    "The result on the sample dataset:\n",
    "\n",
    "```\n",
    "2008    2008-10 73\n",
    "```\n"
   ]
  },
  {
   "cell_type": "markdown",
   "metadata": {},
   "source": [
    "### Step 1. Create database"
   ]
  },
  {
   "cell_type": "code",
   "execution_count": null,
   "metadata": {},
   "outputs": [],
   "source": [
    "%%writefile create_db.hql\n",
    "DROP DATABASE IF EXISTS demodb CASCADE;\n",
    "CREATE DATABASE demodb LOCATION '/user/jovyan/stackoverflow_';"
   ]
  },
  {
   "cell_type": "code",
   "execution_count": null,
   "metadata": {},
   "outputs": [],
   "source": [
    "! hive -f create_db.hql"
   ]
  },
  {
   "cell_type": "markdown",
   "metadata": {},
   "source": [
    "### Step 2. Create tables\n",
    "\n",
    "**Data example:** \n",
    "\n",
    "```\n",
    "<row Id=\"1394\" PostTypeId=\"2\" ParentId=\"1390\" CreationDate=\"2008-08-04T16:38:03.667\" Score=\"16\" Body=\"... long text ...\" OwnerUserId=\"91\" LastEditorUserId=\"1\" LastEditorDisplayName=\"Jeff Atwood\" LastEditDate=\"2008-08-27T13:02:50.273\" LastActivityDate=\"2008-08-27T13:02:50.273\" CommentCount=\"1\" />\n",
    "```\n",
    "\n",
    "**Data model:**\n",
    "\n",
    "* `id` - _(integer)_ - id of the post\n",
    "* `year` - _(string)_ - post creation year in format YYYY\n",
    "* `month` - _(string)_ - post creation month in format YYYY-MM"
   ]
  },
  {
   "cell_type": "code",
   "execution_count": null,
   "metadata": {},
   "outputs": [],
   "source": [
    "%%writefile create_tables.hql\n",
    "ADD JAR /opt/cloudera/parcels/CDH/lib/hive/lib/hive-contrib.jar;\n",
    "ADD JAR /opt/cloudera/parcels/CDH/lib/hive/lib/hive-serde.jar;\n",
    "\n",
    "USE stackoverflow_;\n",
    "DROP TABLE IF EXISTS posts_sample_external;\n",
    "DROP TABLE IF EXISTS posts_sample;\n",
    "\n",
    "-- Create 'posts_sample_external' table with post id, post creation year and post creation month\n",
    "CREATE EXTERNAL TABLE posts_sample_external (\n",
    "    id INT,\n",
    "    year INT,\n",
    "    month STRING\n",
    ")\n",
    "ROW FORMAT\n",
    "    SERDE 'org.apache.hadoop.hive.serde2.RegexSerDe'\n",
    "    WITH SERDEPROPERTIES (\n",
    "        \"input.regex\" = \".*?(?=\\\\bId=\\\"(\\\\d+)\\\").*(?=.*\\\\bCreationDate=\\\"(\\\\d{4}).*)(?=.*\\\\bCreationDate=\\\"(\\\\d{4}-\\\\d{2}).*).*$\"\n",
    "    )\n",
    "LOCATION '/data/stackexchange1000/posts'\n",
    "TBLPROPERTIES (\n",
    "    \"skip.header.line.count\"=\"1\"\n",
    ");\n",
    "\n",
    "-- Create and fill managed table 'posts_sample' with partitioning\n",
    "SET hive.exec.dynamic.partition.mode=nonstrict;\n",
    "SET hive.error.on.empty.partition=true;\n",
    "\n",
    "CREATE TABLE posts_sample (\n",
    "    id INT\n",
    ")\n",
    "PARTITIONED BY (year INT, month STRING);\n",
    "\n",
    "FROM posts_sample_external\n",
    "INSERT OVERWRITE TABLE posts_sample\n",
    "PARTITION (year, month)\n",
    "SELECT id, year, month;\n"
   ]
  },
  {
   "cell_type": "code",
   "execution_count": null,
   "metadata": {},
   "outputs": [],
   "source": [
    "! hive -f create_tables.hql"
   ]
  },
  {
   "cell_type": "markdown",
   "metadata": {},
   "source": [
    "### Step 3. Count posts by months"
   ]
  },
  {
   "cell_type": "code",
   "execution_count": null,
   "metadata": {},
   "outputs": [],
   "source": [
    "%%writefile query.hql\n",
    "ADD JAR /opt/cloudera/parcels/CDH/lib/hive/lib/hive-contrib.jar;\n",
    "USE stackoverflow_;\n",
    "\n",
    "SELECT year, month, COUNT(*) as count \n",
    "FROM posts_sample \n",
    "GROUP BY year, month ORDER BY month;"
   ]
  },
  {
   "cell_type": "code",
   "execution_count": null,
   "metadata": {},
   "outputs": [],
   "source": [
    "! hive -f query.hql"
   ]
  },
  {
   "cell_type": "code",
   "execution_count": null,
   "metadata": {},
   "outputs": [],
   "source": []
  }
 ],
 "metadata": {
  "kernelspec": {
   "display_name": "Python 3",
   "language": "python",
   "name": "python3"
  },
  "language_info": {
   "codemirror_mode": {
    "name": "ipython",
    "version": 3
   },
   "file_extension": ".py",
   "mimetype": "text/x-python",
   "name": "python",
   "nbconvert_exporter": "python",
   "pygments_lexer": "ipython3",
   "version": "3.6.6"
  }
 },
 "nbformat": 4,
 "nbformat_minor": 2
}