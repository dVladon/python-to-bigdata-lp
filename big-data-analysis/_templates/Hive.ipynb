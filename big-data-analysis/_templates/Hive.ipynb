{
 "metadata": {
  "language_info": {
   "codemirror_mode": {
    "name": "ipython",
    "version": 3
   },
   "file_extension": ".py",
   "mimetype": "text/x-python",
   "name": "python",
   "nbconvert_exporter": "python",
   "pygments_lexer": "ipython3",
   "version": "3.9.1-final"
  },
  "orig_nbformat": 2,
  "kernelspec": {
   "name": "python3",
   "display_name": "Python 3.9.1 64-bit",
   "metadata": {
    "interpreter": {
     "hash": "7812ea015bdcee6f23a998adcdd2ef97c151c0c241b7b7070987d9313e41299d"
    }
   }
  }
 },
 "nbformat": 4,
 "nbformat_minor": 2,
 "cells": [
  {
   "source": [
    "# < Task Name >\n",
    "\n",
    "< Task Description >"
   ],
   "cell_type": "markdown",
   "metadata": {}
  },
  {
   "source": [
    "### Solution Description\n",
    "\n",
    "< General solution description if needed >"
   ],
   "cell_type": "markdown",
   "metadata": {}
  },
  {
   "source": [
    "### Step 0. Prepare script to run commands only when local\n",
    "\n",
    "In this step we create a Shell script called `run_if_local.sh` which executes all passed arguments as a command if environment `LOCAL_MODE=true` is set."
   ],
   "cell_type": "markdown",
   "metadata": {}
  },
  {
   "cell_type": "code",
   "execution_count": null,
   "metadata": {},
   "outputs": [],
   "source": [
    "%%writefile run_if_local.sh\n",
    "#! /bin/bash\n",
    "\n",
    "if [[ \"${LOCAL_MODE}\" = true ]]; then\n",
    "    echo \"=> Executing command '$@'\"\n",
    "    eval $@\n",
    "else\n",
    "    echo \"=> Skip command '$@' because of non local\"\n",
    "fi"
   ]
  },
  {
   "cell_type": "code",
   "execution_count": null,
   "metadata": {},
   "outputs": [],
   "source": [
    "! chmod +x run_if_local.sh"
   ]
  },
  {
   "source": [
    "### Step 1. Create database"
   ],
   "cell_type": "markdown",
   "metadata": {}
  },
  {
   "cell_type": "code",
   "execution_count": null,
   "metadata": {},
   "outputs": [],
   "source": [
    "%%writefile create_db.hql\n",
    "DROP DATABASE IF EXISTS demodb CASCADE;\n",
    "CREATE DATABASE demodb LOCATION '/user/jovyan/demodb';"
   ]
  },
  {
   "source": [
    "! ./run_if_local.sh hive -f create_db.hql"
   ],
   "cell_type": "markdown",
   "metadata": {}
  },
  {
   "source": [
    "### Step 2. Create tables"
   ],
   "cell_type": "markdown",
   "metadata": {}
  },
  {
   "cell_type": "code",
   "execution_count": null,
   "metadata": {},
   "outputs": [],
   "source": [
    "%%writefile create_table.hql\n",
    "ADD JAR /opt/cloudera/parcels/CDH/lib/hive/lib/hive-contrib.jar;"
   ]
  },
  {
   "cell_type": "code",
   "execution_count": null,
   "metadata": {},
   "outputs": [],
   "source": [
    "! hive -f create_table.hql"
   ]
  },
  {
   "source": [
    "### Step 3 - N. Define and execute HQL queries"
   ],
   "cell_type": "markdown",
   "metadata": {}
  },
  {
   "cell_type": "code",
   "execution_count": null,
   "metadata": {},
   "outputs": [],
   "source": [
    "%%writefile query.hql\n",
    "ADD JAR /opt/cloudera/parcels/CDH/lib/hive/lib/hive-contrib.jar;\n",
    "USE demodb;"
   ]
  },
  {
   "cell_type": "code",
   "execution_count": null,
   "metadata": {},
   "outputs": [],
   "source": [
    "! hive -f query.hql"
   ]
  }
 ]
}