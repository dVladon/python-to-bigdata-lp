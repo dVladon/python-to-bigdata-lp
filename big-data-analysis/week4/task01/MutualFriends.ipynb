{
 "cells": [
  {
   "cell_type": "markdown",
   "metadata": {},
   "source": [
    "# Counting number of the mutual friends\n",
    "\n",
    "For each user having ID in the column `userId` count the amount of his / her common friends with each other user having ID in the column `userId`.\n",
    "\n",
    "Print 49 pairs of the users having the largest amount of common friends, ordered in descending order first by the common friends count , then by id of user1 and finally by id of user 2. \n",
    "\n",
    "The format is following: \n",
    "\n",
    "```\n",
    "count user1 user2\n",
    "```\n",
    "\n",
    "**Example:**\n",
    "\n",
    "```\n",
    "234\t54719 767867\n",
    "\n",
    "120\t54719 767866\n",
    "\n",
    "97  50787 327676\n",
    "```\n",
    "\n",
    "The overall plan could look like this:\n",
    "\n",
    "* Create a new column `friend` by exploding of column `friends` (like in the demo iPython notebook) \n",
    "* Group the resulting dataframe by the column `friend` (like in the demo iPython notebook)\n",
    "* Create a column `users` by collecting all users with the same id in the column `friend` together (like in the demo iPython notebook)\n",
    "* Sort the elements in the column `users` by the function _sort_array_\n",
    "* Filter only the rows which have more than 1 element in the column `users`\n",
    "* For each row emit all possible ordered pairs of users from the column `users` (tip: write a user defined function for this)\n",
    "* Count the number of times each pair has appeared \n",
    "* With the help of the window function (like in the demo python notebook) select 49 pairs of users who have the biggest amount of common friends\n",
    "\n",
    "The sample dataset is located at /data/graphDFSample.\n",
    "\n",
    "The part of the result on the sample dataset:\n",
    "\n",
    "```\n",
    "...\n",
    "3044 21864412 51640390\n",
    "3021 17139850 51640390\n",
    "3010 14985079 51640390\n",
    "2970 17139850 21864412\n",
    "2913 20158643 27967558\n",
    "...\n",
    "```"
   ]
  },
  {
   "cell_type": "markdown",
   "metadata": {},
   "source": [
    "### Solution description\n",
    "\n",
    "1. The original data has the following schema: \n",
    "   * `user` - an ID of user\n",
    "   * `friends` - a list with ID-s of users which are friends of the user\n",
    "2. Reverse the original data frame to the following data schema:\n",
    "   * `friend` - an ID of user\n",
    "   * `users` - a list with ID-s of user which has relation with the friend\n",
    "3. Add a column `user_size=len(users)` and leave only columns with `user_size > 1`\n",
    "4. Sort array `users` in each row\n",
    "5. Use a UDF to create all possible pairs of elements from `users` array in each row. \n",
    "   Add the result as a new column 'user_pairs' with type Array(Struct(user1, user2)). \n",
    "   As result, we will get the data schema:\n",
    "   ```\n",
    "   <friend> [(<user1_1>, <user2_1>), (<user1_k>, <user2_j>),]\n",
    "   ```\n",
    "6. Explode the `user_pairs` to `mutual_friends` field.\n",
    "7. Group by `user_pairs` column and sum up the column.\n",
    "\n",
    "As result, we get counted pairs of users which has the same friend. "
   ]
  },
  {
   "cell_type": "markdown",
   "metadata": {},
   "source": [
    "### Step 1. Connect and read data"
   ]
  },
  {
   "cell_type": "code",
   "execution_count": null,
   "metadata": {},
   "outputs": [],
   "source": [
    "import pyspark.sql.types as t\n",
    "\n",
    "from pyspark.sql import SparkSession\n",
    "from pyspark.sql import Window\n",
    "from pyspark.sql.functions import explode, collect_list, size, col, desc, sort_array, udf, count\n",
    "\n",
    "\n",
    "GRAPH_PATH = \"/data/graphDFSample\"\n",
    "\n",
    "\n",
    "spark_session = SparkSession.builder.enableHiveSupport().master(\"local\").getOrCreate()\n",
    "users_relations_graph = spark_session.read.parquet(GRAPH_PATH)"
   ]
  },
  {
   "cell_type": "markdown",
   "metadata": {},
   "source": [
    "### Step 2. Write a UDF to combine all pairs in array"
   ]
  },
  {
   "cell_type": "code",
   "execution_count": null,
   "metadata": {},
   "outputs": [],
   "source": [
    "def make_pairs(arr):\n",
    "    \"\"\"\n",
    "    Returns an array with all possible pairs (as tuple)\n",
    "    from the original array.\n",
    "    \"\"\"\n",
    "    arr_len = len(arr)\n",
    "    return [(arr[i], arr[j]) for i in range(arr_len) for j in range(i + 1, arr_len)]\n",
    "\n",
    "\n",
    "# Simple test\n",
    "assert all(x in [(1, 2), (1, 3), (2, 3)] for x in list(make_pairs([1, 2, 3])))\n",
    "\n",
    "# Create custom type and register UDF\n",
    "pair_type = t.StructType([\n",
    "    t.StructField(\"p\", t.IntegerType(), False),\n",
    "    t.StructField(\"q\", t.IntegerType(), False),\n",
    "])\n",
    "make_pairs = udf(make_pairs, t.ArrayType(pair_type))"
   ]
  },
  {
   "cell_type": "markdown",
   "metadata": {},
   "source": [
    "### Step 3. Reverse graph and prepare for calculation"
   ]
  },
  {
   "cell_type": "code",
   "execution_count": null,
   "metadata": {},
   "outputs": [],
   "source": [
    "reversed_graph = users_relations_graph.withColumn(\"friend\", explode(\"friends\")) \\\n",
    "                                      .groupBy(\"friend\").agg(collect_list(\"user\").alias(\"users\")) \\\n",
    "                                      .withColumn(\"users\", sort_array('users')) \\\n",
    "                                      .filter(size(col(\"users_size\")) > 1)"
   ]
  },
  {
   "cell_type": "markdown",
   "metadata": {},
   "source": [
    "### Step 4. Find mutual friends"
   ]
  },
  {
   "cell_type": "code",
   "execution_count": null,
   "metadata": {},
   "outputs": [],
   "source": [
    "mutual_friends_df = reversed_graph.withColumn(\"pairs\", make_pairs(\"users\")) \\\n",
    "                                  .withColumn(\"mutual_friends\", explode(\"pairs\")) \\\n",
    "                                  .groupBy(\"mutual_friends\").agg(count(\"mutual_friends\").alias(\"friends_count\"))"
   ]
  },
  {
   "cell_type": "markdown",
   "metadata": {},
   "source": [
    "### Step 5. Collect and print result"
   ]
  },
  {
   "cell_type": "code",
   "execution_count": null,
   "metadata": {},
   "outputs": [],
   "source": [
    "top_50_by_friends = mutual_friends_df.select(col(\"friends_count\"), \n",
    "                                             col(\"mutual_friends.p\").alias(\"user1\"), \n",
    "                                             col(\"mutual_friends.q\").alias(\"user2\")) \\\n",
    "                                     .orderBy(desc(\"friends_count\"), desc(\"user1\"), desc(\"user2\")) \\\n",
    "                                     .limit(49)"
   ]
  },
  {
   "cell_type": "code",
   "execution_count": null,
   "metadata": {},
   "outputs": [],
   "source": [
    "for row in top_50_by_friends.collect():\n",
    "    print(row.friends_count, row.user1, row.user2, sep=\"\\t\")"
   ]
  },
  {
   "cell_type": "code",
   "execution_count": null,
   "metadata": {},
   "outputs": [],
   "source": []
  }
 ],
 "metadata": {
  "kernelspec": {
   "display_name": "Python 3",
   "language": "python",
   "name": "python3"
  },
  "language_info": {
   "codemirror_mode": {
    "name": "ipython",
    "version": 3
   },
   "file_extension": ".py",
   "mimetype": "text/x-python",
   "name": "python",
   "nbconvert_exporter": "python",
   "pygments_lexer": "ipython3",
   "version": "3.6.6"
  }
 },
 "nbformat": 4,
 "nbformat_minor": 2
}