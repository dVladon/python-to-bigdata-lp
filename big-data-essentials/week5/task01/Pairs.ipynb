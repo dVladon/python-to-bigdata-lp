{
 "cells": [
  {
   "source": [
    "# Spark assignment 1: Pairs\n",
    "\n",
    "Find all the pairs of two consequent words where the first word is `narodnaya`. For each pair, count the number of occurrences in the Wikipedia dump. Print all the pairs with their count in a lexicographical order. Output format is `word_pair <tab> count`, for example:\n",
    "\n",
    "```\n",
    "red_apple\t100500\n",
    "crazy_zoo\t42\n",
    "```\n",
    "\n",
    "Note that two words in a pair are concatenated with the underscore character, and the result is in the lowercase.\n",
    "\n",
    "One motivation for counting these continuations is to get a better understanding of the language. Some words, like \"the\", have a lot of continuations, while others, like \"San\", have just a few (\"San Francisco\", for example). One can build a language model with these statistics. If you are interested to learn more, search for \"n-gram language model\" in the Internet.\n",
    "\n",
    "Dataset location: */data/wiki/en_articles_part*\n",
    "\n",
    "The result on the sample dataset:\n",
    "\n",
    "```\n",
    "narodnaya_gazeta   1\n",
    "narodnaya_volya    9\n",
    "```\n"
   ],
   "cell_type": "markdown",
   "metadata": {}
  },
  {
   "source": [
    "### Step 1. Create SparkContext."
   ],
   "cell_type": "markdown",
   "metadata": {}
  },
  {
   "cell_type": "code",
   "execution_count": null,
   "metadata": {},
   "outputs": [],
   "source": [
    "from pyspark import SparkConf, SparkContext\n",
    "\n",
    "sc = SparkContext(conf=SparkConf().setAppName(\"MyApp\").setMaster(\"yarn\"))\n",
    "\n",
    "# For local run uncomment the lines below.\n",
    "# sc = SparkContext(conf=SparkConf().setAppName(\"MyApp\").setMaster(\"local\"))\n",
    "# sc.uiWebUrl\n"
   ]
  },
  {
   "source": [
    "### Step 2. Load and parse data."
   ],
   "cell_type": "markdown",
   "metadata": {}
  },
  {
   "cell_type": "code",
   "execution_count": null,
   "metadata": {},
   "outputs": [],
   "source": [
    "import re\n",
    "\n",
    "def parse_article(line):\n",
    "    try:\n",
    "        article_id, text = line.rstrip().split('\\t', 1)\n",
    "        text = re.sub(\"^\\W+|\\W+$\", \"\", text, flags=re.UNICODE)\n",
    "        words = re.split(\"\\W*\\s+\\W*\", text, flags=re.UNICODE)\n",
    "        return words\n",
    "    except ValueError as e:\n",
    "        return []\n",
    "\n",
    "wiki = sc.textFile(\"/data/wiki/en_articles_part/articles-part\", 4).map(parse_article)\n"
   ]
  },
  {
   "source": [
    "### Step 3. Define main logic."
   ],
   "cell_type": "markdown",
   "metadata": {}
  },
  {
   "cell_type": "code",
   "execution_count": null,
   "metadata": {},
   "outputs": [],
   "source": [
    "from collections import Counter\n",
    "\n",
    "\n",
    "def make_pairs(data, starts_with=\"\"):\n",
    "    \"\"\"\n",
    "    Makes a pairs of words starting with specified word.\n",
    "    \"\"\"\n",
    "    pairs = [\"%s_%s\" % (data[i], data[i + 1]) for i in range(0, len(data) - 1) if starts_with and data[i] == starts_with]\n",
    "    counter = Counter(pairs)\n",
    "    return [(w, c) for w, c in counter.items()]\n"
   ]
  },
  {
   "cell_type": "code",
   "execution_count": null,
   "metadata": {},
   "outputs": [],
   "source": [
    "# Perform all transforms.\n",
    "raw_pairs = wiki.map(lambda x: [el.lower() for el in x]).flatMap(lambda x: make_pairs(x, \"narodnaya\"))\n",
    "result_pairs = raw_pairs.reduceByKey(lambda a,b: a + b).sortByKey()"
   ]
  },
  {
   "source": [
    "### Step 4. Print result."
   ],
   "cell_type": "markdown",
   "metadata": {}
  },
  {
   "cell_type": "code",
   "execution_count": null,
   "metadata": {},
   "outputs": [],
   "source": [
    "for pair in result_pairs.collect():\n",
    "    print(\"%s\\t%d\" % pair)"
   ]
  },
  {
   "source": [
    "### Step 5. Stop Spark"
   ],
   "cell_type": "markdown",
   "metadata": {}
  },
  {
   "cell_type": "code",
   "execution_count": null,
   "metadata": {},
   "outputs": [],
   "source": [
    "sc.stop()"
   ]
  }
 ],
 "metadata": {
  "kernelspec": {
   "name": "python3",
   "display_name": "Python 3.9.1 64-bit",
   "metadata": {
    "interpreter": {
     "hash": "7812ea015bdcee6f23a998adcdd2ef97c151c0c241b7b7070987d9313e41299d"
    }
   }
  },
  "language_info": {
   "codemirror_mode": {
    "name": "ipython",
    "version": 3
   },
   "file_extension": ".py",
   "mimetype": "text/x-python",
   "name": "python",
   "nbconvert_exporter": "python",
   "pygments_lexer": "ipython3",
   "version": "3.9.1-final"
  }
 },
 "nbformat": 4,
 "nbformat_minor": 2
}