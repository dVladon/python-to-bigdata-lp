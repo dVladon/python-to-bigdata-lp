{
 "cells": [
  {
   "cell_type": "markdown",
   "metadata": {},
   "source": [
    "# Simple PageRank implementation with SparkRDD"
   ]
  },
  {
   "cell_type": "code",
   "execution_count": null,
   "metadata": {},
   "outputs": [],
   "source": [
    "def parse_neighbours(urls):\n",
    "    \"\"\"\n",
    "    Parse an URL pairs string into URL-s tuple\n",
    "    \"\"\"\n",
    "    parts = urls.split(r\"\\s+\", urls, 1)\n",
    "    return parts[0], parts[1]\n",
    "\n",
    "\n",
    "def compute_contribs(urls, rank):\n",
    "    \"\"\"\n",
    "    Calculates URL contributions to the rank of other URL-s\n",
    "    \"\"\"\n",
    "    num_urls = len(urls)\n",
    "    for url in urls:\n",
    "        yield (url, rank / num_urls)\n",
    "\n",
    "\n",
    "# Load input data\n",
    "# The data should be in format:\n",
    "#   URL   neighbour_URL\n",
    "#   URL   neighbour_URL\n",
    "#   ...\n",
    "raw = spark_session.read.text(sys.argv[1]).rdd.map(lambda x: x[0])\n",
    "\n",
    "links = raw.map(lambda x: parse_neighbours(x)) \\\n",
    "           .distinct() \\\n",
    "           .partitionBy(100) \\\n",
    "           .cache()\n",
    "\n",
    "ranks = links.mapValues(lambda x: (x[0], 1.0))\n",
    "\n",
    "for i in range(int(sys.argv[2])):\n",
    "    contribs = links.join(ranks).flatMap(lambda x: compute_contribs(x[1][0], x[1][1]))\n",
    "    ranks = contribs.reduceByKey(add).mapValues(lambda x: x * 0.85 + 0.15)\n",
    "    \n",
    "for (link, rank) in ranks.collect():\n",
    "    print(link, rank, sep=\"\\t\")"
   ]
  }
 ],
 "metadata": {
  "kernelspec": {
   "display_name": "Python 3",
   "language": "python",
   "name": "python3"
  },
  "language_info": {
   "codemirror_mode": {
    "name": "ipython",
    "version": 3
   },
   "file_extension": ".py",
   "mimetype": "text/x-python",
   "name": "python",
   "nbconvert_exporter": "python",
   "pygments_lexer": "ipython3",
   "version": "3.6.6"
  }
 },
 "nbformat": 4,
 "nbformat_minor": 2
}
