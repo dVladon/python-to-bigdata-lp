{
 "cells": [
  {
   "cell_type": "markdown",
   "metadata": {},
   "source": [
    "# Hive Demo Assignment: subnets"
   ]
  },
  {
   "source": [
    "### Step 0. Prepare script to run commands only when local\n",
    "\n",
    "In this step we create a Shell script called `run_if_local.sh` which executes all passed arguments as a command if environment `LOCAL_MODE=true` is set."
   ],
   "cell_type": "markdown",
   "metadata": {}
  },
  {
   "cell_type": "markdown",
   "metadata": {},
   "source": [
    "### Step 1. Create database"
   ]
  },
  {
   "cell_type": "code",
   "execution_count": null,
   "metadata": {},
   "outputs": [],
   "source": [
    "%%writefile create_db.hql\n",
    "DROP DATABASE IF EXISTS demodb CASCADE;\n",
    "CREATE DATABASE demodb LOCATION '/user/jovyan/demodb';"
   ]
  },
  {
   "cell_type": "code",
   "execution_count": null,
   "metadata": {},
   "outputs": [],
   "source": [
    "# ! hive -f create_db.hql"
   ]
  },
  {
   "cell_type": "markdown",
   "metadata": {},
   "source": [
    "### Step 2. Create tables"
   ]
  },
  {
   "cell_type": "markdown",
   "metadata": {},
   "source": [
    "Let us our source dataset have 2 collumns:\n",
    "* ip-address,\n",
    "* its subnet's mask.\n",
    "\n",
    "For example:\n",
    "```\n",
    "148.45.113.216\t255.255.255.248\n",
    "203.98.141.0\t255.255.255.240\n",
    "183.168.36.0\t255.255.255.128\n",
    "111.157.172.232\t255.255.255.248\n",
    "80.46.87.0\t255.255.255.0\n",
    "247.248.233.0\t255.255.255.128\n",
    "```\n",
    "Now we'll create the external table with 2 fields: ip and mask."
   ]
  },
  {
   "cell_type": "code",
   "execution_count": null,
   "metadata": {},
   "outputs": [],
   "source": [
    "%%writefile create_table.hql\n",
    "ADD JAR /opt/cloudera/parcels/CDH/lib/hive/lib/hive-contrib.jar;\n",
    "\n",
    "USE demodb;\n",
    "DROP TABLE IF EXISTS Subnets;\n",
    "\n",
    "CREATE EXTERNAL TABLE Subnets (\n",
    "    ip STRING,\n",
    "    mask STRING\n",
    ")\n",
    "ROW FORMAT DELIMITED FIELDS TERMINATED BY  '\\t'\n",
    "STORED AS TEXTFILE\n",
    "LOCATION '/data/subnets/ips';"
   ]
  },
  {
   "cell_type": "code",
   "execution_count": null,
   "metadata": {},
   "outputs": [],
   "source": [
    "! hive -f create_table.hql"
   ]
  },
  {
   "cell_type": "markdown",
   "metadata": {},
   "source": [
    "### Step 3. Demo query on created table"
   ]
  },
  {
   "cell_type": "markdown",
   "metadata": {},
   "source": [
    "Let's write a simpe query:\n",
    " > Compute avarage value of IPs for each subnet's mask."
   ]
  },
  {
   "cell_type": "code",
   "execution_count": null,
   "metadata": {},
   "outputs": [],
   "source": [
    "%%writefile query.hql\n",
    "\n",
    "ADD JAR /opt/cloudera/parcels/CDH/lib/hive/lib/hive-contrib.jar;\n",
    "USE demodb;"
   ]
  },
  {
   "cell_type": "code",
   "execution_count": null,
   "metadata": {},
   "outputs": [],
   "source": [
    "%%writefile -a query.hql\n",
    "\n",
    "SELECT AVG(counts.cnt)\n",
    "FROM (\n",
    "    SELECT mask, count(ip) as cnt\n",
    "    FROM Subnets\n",
    "    GROUP BY mask\n",
    ") counts;"
   ]
  },
  {
   "cell_type": "code",
   "execution_count": null,
   "metadata": {},
   "outputs": [],
   "source": [
    "hive -f query.hql"
   ]
  }
 ],
 "metadata": {
  "kernelspec": {
   "name": "python3",
   "display_name": "Python 3.9.1 64-bit",
   "metadata": {
    "interpreter": {
     "hash": "7812ea015bdcee6f23a998adcdd2ef97c151c0c241b7b7070987d9313e41299d"
    }
   }
  },
  "language_info": {
   "codemirror_mode": {
    "name": "ipython",
    "version": 3
   },
   "file_extension": ".py",
   "mimetype": "text/x-python",
   "name": "python",
   "nbconvert_exporter": "python",
   "pygments_lexer": "ipython3",
   "version": "3.9.1-final"
  }
 },
 "nbformat": 4,
 "nbformat_minor": 2
}