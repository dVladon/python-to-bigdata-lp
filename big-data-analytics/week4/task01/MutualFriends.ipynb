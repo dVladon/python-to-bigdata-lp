{
 "cells": [
  {
   "cell_type": "markdown",
   "metadata": {},
   "source": [
    "# Counting number of the mutual friends\n",
    "\n",
    "For each user having ID in the column `userId` count the amount of his / her common friends with each other user having ID in the column `userId`.\n",
    "\n",
    "Print 49 pairs of the users having the largest amount of common friends, ordered in descending order first by the common friends count , then by id of user1 and finally by id of user 2. \n",
    "\n",
    "The format is following: \n",
    "\n",
    "```\n",
    "count user1 user2\n",
    "```\n",
    "\n",
    "**Example:**\n",
    "\n",
    "```\n",
    "234\t54719 767867\n",
    "\n",
    "120\t54719 767866\n",
    "\n",
    "97  50787 327676\n",
    "```\n",
    "\n",
    "The overall plan could look like this:\n",
    "\n",
    "* Create a new column `friend` by exploding of column `friends` (like in the demo iPython notebook) \n",
    "* Group the resulting dataframe by the column `friend` (like in the demo iPython notebook)\n",
    "* Create a column `users` by collecting all users with the same id in the column `friend` together (like in the demo iPython notebook)\n",
    "* Sort the elements in the column `users` by the function _sort_array_\n",
    "* Filter only the rows which have more than 1 element in the column `users`\n",
    "* For each row emit all possible ordered pairs of users from the column `users` (tip: write a user defined function for this)\n",
    "* Count the number of times each pair has appeared \n",
    "* With the help of the window function (like in the demo python notebook) select 49 pairs of users who have the biggest amount of common friends\n",
    "\n",
    "The sample dataset is located at /data/graphDFSample.\n",
    "\n",
    "The part of the result on the sample dataset:\n",
    "\n",
    "```\n",
    "...\n",
    "3044 21864412 51640390\n",
    "3021 17139850 51640390\n",
    "3010 14985079 51640390\n",
    "2970 17139850 21864412\n",
    "2913 20158643 27967558\n",
    "...\n",
    "```"
   ]
  },
  {
   "cell_type": "markdown",
   "metadata": {},
   "source": [
    "### Solution description\n",
    "\n",
    "1. The original data has the following schema: \n",
    "   * `user` - an ID of user\n",
    "   * `friends` - a list with ID-s of users which are friends of the user\n",
    "2. Reverse the original data frame to the following data schema:\n",
    "   * `friend` - an ID of user\n",
    "   * `users` - a list with ID-s of user which has relation with the friend\n",
    "3. Add a column `user_size=len(users)` and leave only columns with `user_size > 1`\n",
    "4. Sort array `users` in each row\n",
    "5. Use a UDF to create all possible pairs of elements from `users` array in each row. \n",
    "   Add the result as a new column 'user_pairs' with type Array(Struct(user1, user2)). \n",
    "   As result, we will get the data schema:\n",
    "   ```\n",
    "   <friend> [(<user1_1>, <user2_1>), (<user1_k>, <user2_j>),]\n",
    "   ```\n",
    "6. Explode the `user_pairs` to `mutual_friends` field.\n",
    "7. Group by `user_pairs` column and sum up the column.\n",
    "\n",
    "As result, we get counted pairs of users which has the same friend. "
   ]
  },
  {
   "cell_type": "markdown",
   "metadata": {},
   "source": [
    "### Step 1. Connect and read data"
   ]
  },
  {
   "cell_type": "code",
   "execution_count": 1,
   "metadata": {},
   "outputs": [],
   "source": [
    "import pyspark.sql.types as t\n",
    "\n",
    "from pyspark.sql import SparkSession\n",
    "from pyspark.sql import Window\n",
    "from pyspark.sql.functions import explode, collect_list, size, col, desc, sort_array, udf, count\n",
    "\n",
    "\n",
    "GRAPH_PATH = \"/data/graphDFSample\"\n",
    "\n",
    "\n",
    "spark_session = SparkSession.builder.enableHiveSupport().master(\"local\").getOrCreate()\n",
    "users_relations_graph = spark_session.read.parquet(GRAPH_PATH)"
   ]
  },
  {
   "cell_type": "markdown",
   "metadata": {},
   "source": [
    "### Step 2. Write a UDF to combine all pairs in array"
   ]
  },
  {
   "cell_type": "code",
   "execution_count": 2,
   "metadata": {},
   "outputs": [],
   "source": [
    "def make_pairs(arr):\n",
    "    \"\"\"\n",
    "    Returns an array with all possible pairs (as tuple)\n",
    "    from the original array.\n",
    "    \"\"\"\n",
    "    arr_len = len(arr)\n",
    "    return [(arr[i], arr[j]) for i in range(arr_len) for j in range(i + 1, arr_len)]\n",
    "\n",
    "\n",
    "# Simple test\n",
    "assert all(x in [(1, 2), (1, 3), (2, 3)] for x in list(make_pairs([1, 2, 3])))\n",
    "\n",
    "# Create custom type and register UDF\n",
    "pair_type = t.StructType([\n",
    "    t.StructField(\"p\", t.IntegerType(), False),\n",
    "    t.StructField(\"q\", t.IntegerType(), False),\n",
    "])\n",
    "make_pairs = udf(make_pairs, t.ArrayType(pair_type))"
   ]
  },
  {
   "cell_type": "markdown",
   "metadata": {},
   "source": [
    "### Step 3. Reverse graph and prepare for calculation"
   ]
  },
  {
   "cell_type": "code",
   "execution_count": 3,
   "metadata": {},
   "outputs": [],
   "source": [
    "reversed_graph = users_relations_graph.withColumn(\"friend\", explode(\"friends\")) \\\n",
    "                                      .groupBy(\"friend\").agg(collect_list(\"user\").alias(\"users\")) \\\n",
    "                                      .withColumn(\"users\", sort_array('users')) \\\n",
    "                                      .filter(size(col(\"users\")) > 1)"
   ]
  },
  {
   "cell_type": "markdown",
   "metadata": {},
   "source": [
    "### Step 4. Find mutual friends"
   ]
  },
  {
   "cell_type": "code",
   "execution_count": 4,
   "metadata": {},
   "outputs": [],
   "source": [
    "mutual_friends_df = reversed_graph.withColumn(\"pairs\", make_pairs(\"users\")) \\\n",
    "                                  .withColumn(\"mutual_friends\", explode(\"pairs\")) \\\n",
    "                                  .groupBy(\"mutual_friends\").agg(count(\"mutual_friends\").alias(\"friends_count\"))"
   ]
  },
  {
   "cell_type": "markdown",
   "metadata": {},
   "source": [
    "### Step 5. Collect and print result"
   ]
  },
  {
   "cell_type": "code",
   "execution_count": 5,
   "metadata": {},
   "outputs": [],
   "source": [
    "top_50_by_friends = mutual_friends_df.select(col(\"friends_count\"), \n",
    "                                             col(\"mutual_friends.p\").alias(\"user1\"), \n",
    "                                             col(\"mutual_friends.q\").alias(\"user2\")) \\\n",
    "                                     .orderBy(desc(\"friends_count\"), desc(\"user1\"), desc(\"user2\")) \\\n",
    "                                     .limit(49)"
   ]
  },
  {
   "cell_type": "code",
   "execution_count": 6,
   "metadata": {},
   "outputs": [
    {
     "name": "stdout",
     "output_type": "stream",
     "text": [
      "3206\t27967558\t42973992\n",
      "3130\t20158643\t42973992\n",
      "3066\t22582764\t42973992\n",
      "3044\t21864412\t51640390\n",
      "3021\t17139850\t51640390\n",
      "3010\t14985079\t51640390\n",
      "2970\t17139850\t21864412\n",
      "2913\t20158643\t27967558\n",
      "2903\t22280814\t51151280\n",
      "2870\t23848749\t51640390\n",
      "2855\t20158643\t22582764\n",
      "2849\t20158643\t44996025\n",
      "2846\t22280814\t42973992\n",
      "2784\t21864412\t23848749\n",
      "2779\t31964081\t51640390\n",
      "2776\t39205988\t51640390\n",
      "2754\t17139850\t23848749\n",
      "2749\t22582764\t27967558\n",
      "2728\t50561859\t51640390\n",
      "2724\t15485897\t51640390\n",
      "2700\t28135661\t42973992\n",
      "2655\t22280814\t27967558\n",
      "2653\t42973992\t43548989\n",
      "2639\t26755857\t51640390\n",
      "2621\t14635589\t51640390\n",
      "2608\t15485897\t17139850\n",
      "2606\t17139850\t26755857\n",
      "2601\t21864412\t39205988\n",
      "2600\t8406745\t51640390\n",
      "2599\t37735419\t51640390\n",
      "2597\t20158643\t28135661\n",
      "2585\t40003405\t42973992\n",
      "2585\t21864412\t31964081\n",
      "2581\t27967558\t43548989\n",
      "2579\t23848749\t31964081\n",
      "2578\t27967558\t28135661\n",
      "2578\t15485897\t21864412\n",
      "2577\t42973992\t64755069\n",
      "2574\t51151280\t57077210\n",
      "2573\t20158643\t43548989\n",
      "2566\t21864412\t26755857\n",
      "2564\t22280814\t64755069\n",
      "2561\t42973992\t44996025\n",
      "2556\t17139850\t39205988\n",
      "2543\t23848749\t39205988\n",
      "2521\t17139850\t31964081\n",
      "2515\t27967558\t44996025\n",
      "2506\t41629539\t51640390\n",
      "2505\t51151280\t64755069\n"
     ]
    }
   ],
   "source": [
    "for row in top_50_by_friends.collect():\n",
    "    print(row.friends_count, row.user1, row.user2, sep=\"\\t\")"
   ]
  },
  {
   "cell_type": "code",
   "execution_count": null,
   "metadata": {},
   "outputs": [],
   "source": []
  }
 ],
 "metadata": {
  "kernelspec": {
   "display_name": "Python 3",
   "language": "python",
   "name": "python3"
  },
  "language_info": {
   "codemirror_mode": {
    "name": "ipython",
    "version": 3
   },
   "file_extension": ".py",
   "mimetype": "text/x-python",
   "name": "python",
   "nbconvert_exporter": "python",
   "pygments_lexer": "ipython3",
   "version": "3.6.6"
  }
 },
 "nbformat": 4,
 "nbformat_minor": 2
}
